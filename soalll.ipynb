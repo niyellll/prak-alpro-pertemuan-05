{
 "cells": [
  {
   "cell_type": "markdown",
   "metadata": {},
   "source": [
    "Latihan 5.1 \n",
    "Buatlah program yang menerapkan perhitungan perkalian dengan menggunakan\n",
    "penjumlahan. Buatlah fungsi perkalian() dalam program tersebut! Berikut ini adalah beberapa\n",
    "contoh perhitungan yang diharapkan:\n",
    "• 6 x 5 = 5 + 5 + 5 + 5 + 5 + 5 = 30.\n",
    "• 7 x 10 = 10 + 10 + 10 + 10 + 10 + 10 + 10 = 70."
   ]
  },
  {
   "cell_type": "code",
   "execution_count": 4,
   "metadata": {},
   "outputs": [
    {
     "name": "stdout",
     "output_type": "stream",
     "text": [
      "6 x 5 = 5 + 5 + 5 + 5 + 5 + 5 = 30\n",
      "7 x 10 = 10 + 10 + 10 + 10 + 10 + 10 + 10 = 30\n"
     ]
    }
   ],
   "source": [
    "def perkalian(a, b):\n",
    "    hasil = 0\n",
    "    for _ in range(b):\n",
    "        hasil += a\n",
    "    return hasil\n",
    "\n",
    "\n",
    "angka1 = 6\n",
    "angka2 = 5\n",
    "hasilnyaaa = perkalian(angka1, angka2)\n",
    "print(f\"{angka1} x {angka2} = {angka2} + {angka2} + {angka2} + {angka2} + {angka2} + {angka2} = {hasilnyaaa}\")\n",
    "\n",
    "angka1 = 7\n",
    "angka2 = 10\n",
    "hasilnyaaan = perkalian(angka1, angka2)\n",
    "print(f\"{angka1} x {angka2} = {angka2} + {angka2} + {angka2} + {angka2} + {angka2} + {angka2} + {angka2} = {hasilnyaaa}\")\n"
   ]
  },
  {
   "cell_type": "markdown",
   "metadata": {},
   "source": [
    "Latihan 5.2\n",
    " Buatlah program yang dapat menampilkan deret bilangan ganjil dari batas bawah\n",
    "dan batas atas yang diberikan oleh pengguna. Jika ternyata batas atas < batas bawah, berarti\n",
    "deret tersebut dimulai dari batas atas, sampai batas bawah (negatif range). Buatlah fungsi ganjil()\n",
    "dalam program tersebut! Berikut ini adalah contoh hasil yang diharapkan:\n",
    "• bawah = 10, atas = 30. Karena bawah < atas, berarti dari kecil ke besar, maka hasilnya\n",
    "adalah: 11, 13, 15, 17, 19, 21, 23, 25, 27, 29.\n",
    "• bawah = 97, atas = 82. Karena bawah > atas, berarti dari besar ke kecil, maka hasilnya\n",
    "adalah: 97, 95, 93, 91, 89, 87, 85, 83"
   ]
  },
  {
   "cell_type": "code",
   "execution_count": 5,
   "metadata": {},
   "outputs": [
    {
     "name": "stdout",
     "output_type": "stream",
     "text": [
      "11 13 15 17 19 21 23 25 27 29\n",
      "97 95 93 91 89 87 85 83\n"
     ]
    }
   ],
   "source": [
    "def ganjil(bawah, atas):\n",
    "    if bawah < atas:\n",
    "        return [bil for bil in range(bawah, atas + 1) if bil % 2 != 0]\n",
    "    else:\n",
    "        return [bil for bil in range(atas, bawah + 1) if bil % 2 != 0][::-1] \n",
    "\n",
    "\n",
    "bawah = 10\n",
    "atas = 30\n",
    "\n",
    "print(*ganjil(bawah, atas))\n",
    "\n",
    "atas = 82\n",
    "bawah = 97\n",
    "\n",
    "print(*ganjil(bawah, atas))  \n"
   ]
  },
  {
   "cell_type": "markdown",
   "metadata": {},
   "source": [
    "Latihan 5.3 \n",
    "Buatlah sebuah program penghitung nilai Indeks Prestasi Semester (IPS). Input\n",
    "bagi program:\n",
    "• Jumlah mata kuliah\n",
    "• Nilai A, B, C, dan D untuk setiap mata kuliah mahasiswa. Diasumsikan sks setiap mata\n",
    "kuliah selalu 3. Kemudian bobot dari masing-masing nilai adalah: A=4, B=3, C=2, D=1.\n",
    "Output program ialah hasil IPS yang didapatkan. Jalannya program seperti pada Gambar 5.7.\n",
    "Tips: Gunakan kontrol percabangan di dalam perulangan. "
   ]
  },
  {
   "cell_type": "code",
   "execution_count": 18,
   "metadata": {},
   "outputs": [
    {
     "name": "stdout",
     "output_type": "stream",
     "text": [
      "MK 1 = A\n",
      "MK 2 = B\n",
      "MK 3 = C\n",
      "MK 4 = A\n",
      "MK 5 = B\n",
      "MK 6 = C\n",
      "NILAI IPS ANDA SEMESTER INI ADALAH = 3.00\n"
     ]
    }
   ],
   "source": [
    "def hitung_ips(jumlah_matkul):\n",
    "    total_sks = 0\n",
    "    total_bobot = 0\n",
    "    nilai_mk = []\n",
    "\n",
    "    for i in range(1, jumlah_matkul + 1):\n",
    "        nilai = input(f\"Nilai MK {i} (A/B/C/D): \")\n",
    "        if nilai not in ['A', 'B', 'C', 'D']:\n",
    "            print(\"Nilai yang dimasukkan tidak valid.\")\n",
    "            return None\n",
    "        \n",
    "        nilai_mk.append(nilai)\n",
    "        bobot = {'A': 4, 'B': 3, 'C': 2, 'D': 1}[nilai]\n",
    "        total_sks += 3  \n",
    "        total_bobot += bobot * 3\n",
    "\n",
    "    return total_bobot / total_sks, nilai_mk\n",
    "\n",
    "jumlah_matkul = 6 \n",
    "ips, nilai_mk = hitung_ips(jumlah_matkul)\n",
    "\n",
    "\n",
    "i = 1\n",
    "for nilai in nilai_mk:\n",
    "    print(f\"MK {i} = {nilai}\")\n",
    "    i += 1\n",
    "\n",
    "        \n",
    "if ips is not None:\n",
    "    print(f\"NILAI IPS ANDA SEMESTER INI ADALAH = {ips:.2f}\")\n"
   ]
  }
 ],
 "metadata": {
  "kernelspec": {
   "display_name": "Python 3",
   "language": "python",
   "name": "python3"
  },
  "language_info": {
   "codemirror_mode": {
    "name": "ipython",
    "version": 3
   },
   "file_extension": ".py",
   "mimetype": "text/x-python",
   "name": "python",
   "nbconvert_exporter": "python",
   "pygments_lexer": "ipython3",
   "version": "3.12.0"
  }
 },
 "nbformat": 4,
 "nbformat_minor": 2
}
